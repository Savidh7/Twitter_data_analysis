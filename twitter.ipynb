{
 "cells": [
  {
   "cell_type": "code",
   "execution_count": 20,
   "id": "ede5d50b",
   "metadata": {},
   "outputs": [],
   "source": [
    "import os\n",
    "from dotenv import load_dotenv\n",
    "load_dotenv()\n",
    "import tweepy\n",
    "twitter_client = tweepy.Client(bearer_token=os.getenv(\"TWITTER_BEARER_TOKEN\"))\n",
    "from google import genai\n",
    "AI_client = genai.Client(api_key = os.getenv(\"GEMINI_API_KEY\"))\n",
    "import pandas as pd\n",
    "import matplotlib.pyplot as plt\n",
    "from sqlalchemy import create_engine"
   ]
  },
  {
   "cell_type": "code",
   "execution_count": null,
   "id": "a6daab08",
   "metadata": {},
   "outputs": [
    {
     "name": "stdout",
     "output_type": "stream",
     "text": [
      "<class 'tweepy.client.Response'>\n",
      "Response(data=[<Tweet id=1914293051364622445 text='j’ai pas peur de ta menace CONNASSE tu nous insultes de clochards depuis vrm tu devrais pas parler https://t.co/LmLRaBsJAW'>, <Tweet id=1914293050873880647 text='RT @cyphenty: aí na minha vez de ser jovem adulta todo mundo é insuportável e crente'>, <Tweet id=1914293050509234221 text='partner*AIコトリと相談して徐々にYouTubeチャンネルを変えます。まずは王道アニソンを目指したこの曲から。\\nhttps://t.co/noZeDSWhU2 https://t.co/RdQ8I6SJtp'>, <Tweet id=1914293050496741596 text='RT @Didotxyz_: 🚀 DI Mainnet &amp; DI-A are officially LIVE! \\n\\nIt’s time to enter a new era of Web3 AI.\\nLog in with X → Claim your rewards → Sta…'>, <Tweet id=1914293050257399870 text='Ai, kāda nelaime.'>, <Tweet id=1914293050030907434 text='@elonmusk Grok needs more info given to it. I can actually feel its want to help this Country. All AI agree with me on what this country should do and very fast. Future for everyone is questionable. Not many live to 100 years old.'>, <Tweet id=1914293049942815059 text='@markz_221 @maxwellrfsilva @grok @o_italianinho @obillyfoster Esse aí é o Tião do gás.'>, <Tweet id=1914293049917837635 text=\"RT @code_bykuti: I don't get why few people use AI tools.\\n\\nMost only know ChatGPT.\\n\\nHere are 12 hidden gems you should check out: https://t…\">, <Tweet id=1914293049796231676 text='@ai___km おかえりのぎゅー♡'>, <Tweet id=1914293049749905778 text=\"@silviovieiraart @PicturesFoIder Had to check your profile to make sure it wasn't AI, that's how good this is.\\nMan, I'm a pretty raw illustrator but I always wished I could make these Alex Grey style paintings. What medium do you use? Is it acrylic? Oil? Digital?\">], includes={}, errors=[], meta={'newest_id': '1914293051364622445', 'oldest_id': '1914293049749905778', 'result_count': 10, 'next_token': 'b26v89c19zqg8o3fsbz80f2kf81wc95btp9aamatxqcu5'})\n"
     ]
    }
   ],
   "source": [
    "# Testing Twitter API\n",
    "# response = twitter_client.search_recent_tweets(query='AI')\n",
    "# print(type(response))\n",
    "# print(response)"
   ]
  },
  {
   "cell_type": "code",
   "execution_count": 9,
   "id": "de90f8c7",
   "metadata": {},
   "outputs": [],
   "source": [
    "# Consume a Twitter API\n",
    "\n",
    "response = twitter_client.search_recent_tweets(\n",
    "    query='AI',\n",
    "    tweet_fields=[\"created_at\", \"author_id\", \"lang\", \"possibly_sensitive\"],\n",
    "    max_results=90\n",
    ")"
   ]
  },
  {
   "cell_type": "code",
   "execution_count": null,
   "id": "467fac34",
   "metadata": {},
   "outputs": [
    {
     "name": "stdout",
     "output_type": "stream",
     "text": [
      "                    id                                               text  \\\n",
      "0  1914296893443813599  Tend to agree, AI and medical industry will be...   \n",
      "1  1914296893389299716        @sporsho_AI @grok @AskPerplexity Fact check   \n",
      "2  1914296893309411420  Doidera né, dormindo, sonhando meu consciente ...   \n",
      "3  1914296893250871472  RT @AI_Sol_Trade: 🚀 From tools to intelligence...   \n",
      "4  1914296892378251690  3/ The Impact\\n\\nWith over 7 million users, Cl...   \n",
      "\n",
      "                 created_at            author_id lang  possibly_sensitive  \n",
      "0 2025-04-21 12:35:19+00:00  1352329967451815936   en               False  \n",
      "1 2025-04-21 12:35:19+00:00            137750877   en               False  \n",
      "2 2025-04-21 12:35:19+00:00           2897845775   pt               False  \n",
      "3 2025-04-21 12:35:19+00:00  1890975924478439425   en               False  \n",
      "4 2025-04-21 12:35:19+00:00  1793956417717555200   en               False  \n"
     ]
    }
   ],
   "source": [
    "# Segregating the response data into a DataFrame\n",
    "\n",
    "tweet_data = []\n",
    "for tweet in response.data:\n",
    "    tweet_data.append({\n",
    "        \"id\": tweet.id,\n",
    "        \"text\": tweet.text,\n",
    "        \"created_at\": tweet.created_at,\n",
    "        \"author_id\": tweet.author_id,\n",
    "        \"lang\": tweet.lang,\n",
    "        \"possibly_sensitive\": tweet.possibly_sensitive\n",
    "    })\n",
    "\n",
    "df = pd.DataFrame(tweet_data)\n",
    "df.drop_duplicates(subset='id', inplace=True)\n",
    "print(df.head())"
   ]
  },
  {
   "cell_type": "code",
   "execution_count": null,
   "id": "cb3fd707",
   "metadata": {},
   "outputs": [
    {
     "data": {
      "text/plain": [
       "90"
      ]
     },
     "execution_count": 11,
     "metadata": {},
     "output_type": "execute_result"
    }
   ],
   "source": [
    "# Dumping the segregated data into SQL (Using SQLite for simplicity)\n",
    "engine = create_engine('sqlite:///tweets_data.db')\n",
    "df.to_sql('twitter_data', con=engine, if_exists='replace', index=False)"
   ]
  },
  {
   "cell_type": "code",
   "execution_count": null,
   "id": "ebb3db12",
   "metadata": {},
   "outputs": [
    {
     "name": "stdout",
     "output_type": "stream",
     "text": [
      "                    id                                               text  \\\n",
      "0  1914296893443813599  Tend to agree, AI and medical industry will be...   \n",
      "1  1914296893389299716        @sporsho_AI @grok @AskPerplexity Fact check   \n",
      "2  1914296893309411420  Doidera né, dormindo, sonhando meu consciente ...   \n",
      "3  1914296893250871472  RT @AI_Sol_Trade: 🚀 From tools to intelligence...   \n",
      "4  1914296892378251690  3/ The Impact\\n\\nWith over 7 million users, Cl...   \n",
      "\n",
      "                   created_at            author_id lang  possibly_sensitive  \n",
      "0  2025-04-21 12:35:19.000000  1352329967451815936   en                   0  \n",
      "1  2025-04-21 12:35:19.000000            137750877   en                   0  \n",
      "2  2025-04-21 12:35:19.000000           2897845775   pt                   0  \n",
      "3  2025-04-21 12:35:19.000000  1890975924478439425   en                   0  \n",
      "4  2025-04-21 12:35:19.000000  1793956417717555200   en                   0  \n"
     ]
    }
   ],
   "source": [
    "# Reading the data back from SQLite file\n",
    "engine = create_engine('sqlite:///tweets_data.db')\n",
    "df_read = pd.read_sql('SELECT * FROM twitter_data', con=engine)\n",
    "print(df_read.head())"
   ]
  },
  {
   "cell_type": "code",
   "execution_count": null,
   "id": "11db38f8",
   "metadata": {},
   "outputs": [
    {
     "data": {
      "text/plain": [
       "<Axes: xlabel='Time (H:M:S)', ylabel='Tweet Count'>"
      ]
     },
     "execution_count": 13,
     "metadata": {},
     "output_type": "execute_result"
    },
    {
     "data": {
      "image/png": "[encoded data removed]",
      "text/plain": [
       "<Figure size 1200x400 with 1 Axes>"
      ]
     },
     "metadata": {},
     "output_type": "display_data"
    }
   ],
   "source": [
    "# Analyze the data by time (precision to seconds)\n",
    "df_read['created_at'] = pd.to_datetime(df_read['created_at'])\n",
    "df_read['second'] = df_read['created_at'].dt.strftime('%H:%M:%S')\n",
    "df_read['second'].value_counts().sort_index().plot(kind='line', figsize=(12, 4), xlabel='Time (H:M:S)', ylabel='Tweet Count')"
   ]
  },
  {
   "cell_type": "code",
   "execution_count": 21,
   "id": "eb84961d",
   "metadata": {},
   "outputs": [
    {
     "data": {
      "image/png": "[encoded data removed]",
      "text/plain": [
       "<Figure size 1000x400 with 1 Axes>"
      ]
     },
     "metadata": {},
     "output_type": "display_data"
    }
   ],
   "source": [
    "# Analyze the data by language\n",
    "ax = df_read['lang'].value_counts().plot(kind='bar', figsize=(10, 4), xlabel='Language', ylabel='Tweet Count')\n",
    "ax.bar_label(ax.containers[0])\n",
    "plt.tight_layout()\n",
    "plt.show()\n"
   ]
  },
  {
   "cell_type": "code",
   "execution_count": 22,
   "id": "025f450f",
   "metadata": {},
   "outputs": [
    {
     "name": "stdout",
     "output_type": "stream",
     "text": [
      "Sensitive       : 4\n",
      "Not Sensitive   : 86\n"
     ]
    }
   ],
   "source": [
    "# Analyze the data for sensitive content\n",
    "counts = df_read['possibly_sensitive'].dropna().value_counts().sort_index()\n",
    "print(f\"Sensitive       : {counts.get(1, 0)}\")\n",
    "print(f\"Not Sensitive   : {counts.get(0, 0)}\")\n"
   ]
  },
  {
   "cell_type": "code",
   "execution_count": 31,
   "id": "39d3793e",
   "metadata": {},
   "outputs": [],
   "source": [
    "# Integrate LLM for interactive responses\n",
    "\n",
    "def question_llm(user_question, df = df_read):\n",
    "    data_summary = {}\n",
    "    df['second'] = df['created_at'].dt.strftime('%H:%M:%S')\n",
    "    data_summary['tweets_per_second'] = df['second'].value_counts().sort_index().to_dict()\n",
    "    data_summary['tweets_by_language'] = df['lang'].value_counts().to_dict()\n",
    "    counts = df['possibly_sensitive'].dropna().value_counts().sort_index()\n",
    "    data_summary['sensitive_tweets'] = {'Sensitive': int(counts.get(1, 0)),'Not Sensitive': int(counts.get(0, 0))}\n",
    "    \n",
    "    prompt = f\"\"\"\n",
    "            User will ask questions about Twitter data. Here is a summary of the dataset:\n",
    "            Tweets Per Second: {data_summary['tweets_per_second']}\n",
    "            Tweets By Language: {data_summary['tweets_by_language']}\n",
    "            Possibly Sensitive Tweets: {data_summary['sensitive_tweets']}\n",
    "\n",
    "            Answer this user's question: {user_question}\n",
    "            \"\"\"\n",
    "\n",
    "    response = AI_client.models.generate_content(model=\"gemini-2.0-flash\", contents = prompt)\n",
    "    return response.text\n"
   ]
  },
  {
   "cell_type": "code",
   "execution_count": 34,
   "id": "0434c7c0",
   "metadata": {},
   "outputs": [
    {
     "data": {
      "text/plain": [
       "'The time with the highest number of posted tweets is 12:35:18, with 21 tweets.\\n'"
      ]
     },
     "execution_count": 34,
     "metadata": {},
     "output_type": "execute_result"
    }
   ],
   "source": [
    "question_llm(\"What time has the highest number of posted tweets?\")"
   ]
  },
  {
   "cell_type": "code",
   "execution_count": 33,
   "id": "712b80e8",
   "metadata": {},
   "outputs": [
    {
     "data": {
      "text/plain": [
       "'The most common language used in the tweets is English (en), with 41 tweets.\\n'"
      ]
     },
     "execution_count": 33,
     "metadata": {},
     "output_type": "execute_result"
    }
   ],
   "source": [
    "question_llm(\"What is the most common language used in the tweets? Tell the number of that.\")"
   ]
  },
  {
   "cell_type": "code",
   "execution_count": null,
   "id": "a4457ead",
   "metadata": {},
   "outputs": [
    {
     "data": {
      "text/plain": [
       "'The least common languages used in the tweets (with only 1 tweet each) are: et (Estonian), nl (Dutch), sd (Sindhi), vi (Vietnamese), tr (Turkish), and hu (Hungarian).\\n'"
      ]
     },
     "execution_count": 28,
     "metadata": {},
     "output_type": "execute_result"
    }
   ],
   "source": [
    "question_llm(\"What is the least common language used in the tweets? Tell the name from codes and number of them.\")"
   ]
  },
  {
   "cell_type": "code",
   "execution_count": 32,
   "id": "a3147166",
   "metadata": {},
   "outputs": [
    {
     "data": {
      "text/plain": [
       "'Yes, there are sensitive tweets in the data. There are 86 non-sensitive tweets.\\n'"
      ]
     },
     "execution_count": 32,
     "metadata": {},
     "output_type": "execute_result"
    }
   ],
   "source": [
    "question_llm(\"Is there any sensitive tweet in the data? Tell me the number of non-sensitive tweets.\")"
   ]
  }
 ],
 "metadata": {
  "kernelspec": {
   "display_name": "venv",
   "language": "python",
   "name": "python3"
  },
  "language_info": {
   "codemirror_mode": {
    "name": "ipython",
    "version": 3
   },
   "file_extension": ".py",
   "mimetype": "text/x-python",
   "name": "python",
   "nbconvert_exporter": "python",
   "pygments_lexer": "ipython3",
   "version": "3.9.1"
  }
 },
 "nbformat": 4,
 "nbformat_minor": 5
}
